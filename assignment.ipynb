{
 "cells": [
  {
   "cell_type": "code",
   "execution_count": 1,
   "metadata": {},
   "outputs": [
    {
     "name": "stdout",
     "output_type": "stream",
     "text": [
      "Enter the dividend:4\n",
      "Enter the divider:5\n",
      "0.8\n"
     ]
    }
   ],
   "source": [
    "x = int(input(\"Enter the dividend:\"))\n",
    "y = int(input(\"Enter the divider:\"))\n",
    "z = x/y\n",
    "    \n",
    "print(z)"
   ]
  },
  {
   "cell_type": "code",
   "execution_count": 2,
   "metadata": {},
   "outputs": [
    {
     "name": "stdout",
     "output_type": "stream",
     "text": [
      "Enter the dividend:4\n",
      "Enter the divider:8\n",
      "The result is : 0.5\n"
     ]
    }
   ],
   "source": [
    "def div_func(x, y):\n",
    "    try:\n",
    "        z = x/y\n",
    "        print(\"The result is :\", z)\n",
    "    except:\n",
    "        print(\"Can't divide with zero\")\n",
    "\n",
    "dividend = int(input(\"Enter the dividend:\"))\n",
    "divisor = int(input(\"Enter the divider:\"))\n",
    "\n",
    "div_func(dividend, divisor)"
   ]
  },
  {
   "cell_type": "code",
   "execution_count": 12,
   "metadata": {},
   "outputs": [
    {
     "name": "stdout",
     "output_type": "stream",
     "text": [
      "Americans  play Baseball\n",
      "Americans  play Cricket\n",
      "Americans  watch Baseball\n",
      "Americans  watch Cricket\n",
      "Indians play Baseball\n",
      "Indians play Cricket\n",
      "Indians watch Baseball\n",
      "Indians watch Cricket\n"
     ]
    }
   ],
   "source": [
    "subjects = [\"Americans \",\"Indians\"]\n",
    "verbs = [\"play\",\"watch\"]\n",
    "objects = [\"Baseball\",\"Cricket\"]\n",
    "\n",
    "for i in subjects:\n",
    "    for j in verbs:\n",
    "        for k in objects:\n",
    "            print(i,j,k)"
   ]
  },
  {
   "cell_type": "code",
   "execution_count": 4,
   "metadata": {},
   "outputs": [
    {
     "name": "stdout",
     "output_type": "stream",
     "text": [
      "Enter number of elements : 3\n",
      "4\n",
      "4\n",
      "3\n",
      "[4, 4, 3]\n",
      "Enter upto how much power:4\n",
      "Enter increasing(True or False): false\n",
      "Reverse Order:\n",
      "[64, 16, 4, 1]\n",
      "[64, 16, 4, 1]\n",
      "[27, 9, 3, 1]\n"
     ]
    }
   ],
   "source": [
    "lst = [] \n",
    "  \n",
    "n = int(input(\"Enter number of elements : \")) \n",
    "  \n",
    "for i in range(0, n): \n",
    "    ele = int(input()) \n",
    "  \n",
    "    lst.append(ele)  \n",
    "      \n",
    "print(lst) \n",
    "\n",
    "n = int(input(\"Enter upto how much power:\"))\n",
    "increasing = input(\"Enter increasing(True or False): \")\n",
    "\n",
    "if increasing == \"True\" or increasing == \"true\":\n",
    "    for i in lst:\n",
    "        k = []\n",
    "    \n",
    "        for j in range(n):\n",
    "            k.append(i**j)\n",
    "        \n",
    "        print(k)\n",
    "    \n",
    "elif increasing == \"False\" or increasing == \"false\":\n",
    "    print(\"Reverse Order:\")\n",
    "    for i in lst:\n",
    "        k = []\n",
    "        \n",
    "        for j in range((n-1), -1, -1):\n",
    "            k.append(i**j)\n",
    "        \n",
    "        print(k)\n",
    "else:\n",
    "    print(\"Insufficient value for increasing\")"
   ]
  },
  {
   "cell_type": "code",
   "execution_count": null,
   "metadata": {},
   "outputs": [],
   "source": []
  },
  {
   "cell_type": "code",
   "execution_count": null,
   "metadata": {},
   "outputs": [],
   "source": []
  },
  {
   "cell_type": "code",
   "execution_count": null,
   "metadata": {},
   "outputs": [],
   "source": []
  }
 ],
 "metadata": {
  "kernelspec": {
   "display_name": "Python 3",
   "language": "python",
   "name": "python3"
  },
  "language_info": {
   "codemirror_mode": {
    "name": "ipython",
    "version": 3
   },
   "file_extension": ".py",
   "mimetype": "text/x-python",
   "name": "python",
   "nbconvert_exporter": "python",
   "pygments_lexer": "ipython3",
   "version": "3.7.7"
  }
 },
 "nbformat": 4,
 "nbformat_minor": 4
}
